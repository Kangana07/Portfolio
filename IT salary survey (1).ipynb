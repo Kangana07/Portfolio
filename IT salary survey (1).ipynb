{
 "cells": [
  {
   "cell_type": "code",
   "execution_count": 1,
   "id": "65178503",
   "metadata": {},
   "outputs": [],
   "source": [
    "import pandas as pd"
   ]
  },
  {
   "cell_type": "code",
   "execution_count": 2,
   "id": "06ce3168",
   "metadata": {},
   "outputs": [],
   "source": [
    "data_2018=pd.read_csv(r\"C:\\Users\\BAPS\\Downloads\\IT Salary Survey EU 2018.csv\")"
   ]
  },
  {
   "cell_type": "code",
   "execution_count": 3,
   "id": "30ceffe2",
   "metadata": {},
   "outputs": [],
   "source": [
    "data_2019=pd.read_csv(r\"C:\\Users\\BAPS\\Downloads\\T Salary Survey EU 2019.csv\")"
   ]
  },
  {
   "cell_type": "code",
   "execution_count": 4,
   "id": "ad31cfad",
   "metadata": {},
   "outputs": [],
   "source": [
    "data_2020=pd.read_csv(r\"C:\\Users\\BAPS\\Downloads\\IT Salary Survey EU  2020.csv\")"
   ]
  },
  {
   "cell_type": "code",
   "execution_count": 5,
   "id": "897fffbd",
   "metadata": {},
   "outputs": [],
   "source": [
    "data_2018.columns = ['timestamp', 'age', 'gender', 'city', 'position', 'years_experience',\n",
    "                     'seniority_level', 'current_salary', 'salary_1_year_ago', \n",
    "                     'salary_2_years_ago', 'stock_options', 'main_language',\n",
    "                     'company_size', 'company_type']"
   ]
  },
  {
   "cell_type": "code",
   "execution_count": 7,
   "id": "7feeaf39",
   "metadata": {},
   "outputs": [],
   "source": [
    "data_2019.columns = ['timestamp', 'age', 'gender', 'city', 'seniority_level', \n",
    "                     'position', 'years_experience', 'main_technology', \n",
    "                     'current_salary', 'bonus', 'stocks', 'salary_1_year_ago', \n",
    "                     'bonus_1_year_ago', 'stocks_1_year_ago', 'vacation_days', \n",
    "                     'home_office_days', 'main_language', 'company_name', \n",
    "                     'company_size', 'company_type', 'contract_duration', \n",
    "                     'business_sector','0']"
   ]
  },
  {
   "cell_type": "code",
   "execution_count": 9,
   "id": "b0e6d965",
   "metadata": {},
   "outputs": [],
   "source": [
    "data_2019=data_2019.drop(\"0\",axis=1)"
   ]
  },
  {
   "cell_type": "code",
   "execution_count": 10,
   "id": "280613ee",
   "metadata": {},
   "outputs": [
    {
     "data": {
      "text/html": [
       "<div>\n",
       "<style scoped>\n",
       "    .dataframe tbody tr th:only-of-type {\n",
       "        vertical-align: middle;\n",
       "    }\n",
       "\n",
       "    .dataframe tbody tr th {\n",
       "        vertical-align: top;\n",
       "    }\n",
       "\n",
       "    .dataframe thead th {\n",
       "        text-align: right;\n",
       "    }\n",
       "</style>\n",
       "<table border=\"1\" class=\"dataframe\">\n",
       "  <thead>\n",
       "    <tr style=\"text-align: right;\">\n",
       "      <th></th>\n",
       "      <th>timestamp</th>\n",
       "      <th>age</th>\n",
       "      <th>gender</th>\n",
       "      <th>city</th>\n",
       "      <th>seniority_level</th>\n",
       "      <th>position</th>\n",
       "      <th>years_experience</th>\n",
       "      <th>main_technology</th>\n",
       "      <th>current_salary</th>\n",
       "      <th>bonus</th>\n",
       "      <th>...</th>\n",
       "      <th>bonus_1_year_ago</th>\n",
       "      <th>stocks_1_year_ago</th>\n",
       "      <th>vacation_days</th>\n",
       "      <th>home_office_days</th>\n",
       "      <th>main_language</th>\n",
       "      <th>company_name</th>\n",
       "      <th>company_size</th>\n",
       "      <th>company_type</th>\n",
       "      <th>contract_duration</th>\n",
       "      <th>business_sector</th>\n",
       "    </tr>\n",
       "  </thead>\n",
       "  <tbody>\n",
       "    <tr>\n",
       "      <th>0</th>\n",
       "      <td>02.12.2019 11:18:26</td>\n",
       "      <td>33.0</td>\n",
       "      <td>Male</td>\n",
       "      <td>Berlin</td>\n",
       "      <td>Senior</td>\n",
       "      <td>Fullstack Developer</td>\n",
       "      <td>13</td>\n",
       "      <td>PHP</td>\n",
       "      <td>64000.0</td>\n",
       "      <td>1000.0</td>\n",
       "      <td>...</td>\n",
       "      <td>1000.0</td>\n",
       "      <td>NaN</td>\n",
       "      <td>29.0</td>\n",
       "      <td>4.0</td>\n",
       "      <td>English</td>\n",
       "      <td>NaN</td>\n",
       "      <td>50-100</td>\n",
       "      <td>Startup</td>\n",
       "      <td>unlimited</td>\n",
       "      <td>Tourism</td>\n",
       "    </tr>\n",
       "    <tr>\n",
       "      <th>1</th>\n",
       "      <td>02.12.2019 11:18:35</td>\n",
       "      <td>29.0</td>\n",
       "      <td>Male</td>\n",
       "      <td>Berlin</td>\n",
       "      <td>Middle</td>\n",
       "      <td>Backend Developer</td>\n",
       "      <td>3</td>\n",
       "      <td>Python</td>\n",
       "      <td>55000.0</td>\n",
       "      <td>NaN</td>\n",
       "      <td>...</td>\n",
       "      <td>NaN</td>\n",
       "      <td>NaN</td>\n",
       "      <td>22.0</td>\n",
       "      <td>4.0</td>\n",
       "      <td>English</td>\n",
       "      <td>NaN</td>\n",
       "      <td>10-50</td>\n",
       "      <td>Product</td>\n",
       "      <td>unlimited</td>\n",
       "      <td>Scientific Activities</td>\n",
       "    </tr>\n",
       "    <tr>\n",
       "      <th>2</th>\n",
       "      <td>02.12.2019 11:18:56</td>\n",
       "      <td>NaN</td>\n",
       "      <td>Male</td>\n",
       "      <td>Berlin</td>\n",
       "      <td>Middle</td>\n",
       "      <td>Mobile Developer</td>\n",
       "      <td>4</td>\n",
       "      <td>Kotlin</td>\n",
       "      <td>70000.0</td>\n",
       "      <td>NaN</td>\n",
       "      <td>...</td>\n",
       "      <td>NaN</td>\n",
       "      <td>NaN</td>\n",
       "      <td>27.0</td>\n",
       "      <td>NaN</td>\n",
       "      <td>English</td>\n",
       "      <td>NaN</td>\n",
       "      <td>1000+</td>\n",
       "      <td>Startup</td>\n",
       "      <td>unlimited</td>\n",
       "      <td>NaN</td>\n",
       "    </tr>\n",
       "    <tr>\n",
       "      <th>3</th>\n",
       "      <td>02.12.2019 11:19:08</td>\n",
       "      <td>30.0</td>\n",
       "      <td>Male</td>\n",
       "      <td>Berlin</td>\n",
       "      <td>Senior</td>\n",
       "      <td>Backend Developer</td>\n",
       "      <td>6</td>\n",
       "      <td>PHP</td>\n",
       "      <td>63000.0</td>\n",
       "      <td>NaN</td>\n",
       "      <td>...</td>\n",
       "      <td>NaN</td>\n",
       "      <td>NaN</td>\n",
       "      <td>24.0</td>\n",
       "      <td>NaN</td>\n",
       "      <td>English</td>\n",
       "      <td>Auto1</td>\n",
       "      <td>100-1000</td>\n",
       "      <td>Product</td>\n",
       "      <td>unlimited</td>\n",
       "      <td>Transport</td>\n",
       "    </tr>\n",
       "    <tr>\n",
       "      <th>4</th>\n",
       "      <td>02.12.2019 11:19:37</td>\n",
       "      <td>32.0</td>\n",
       "      <td>Male</td>\n",
       "      <td>Berlin</td>\n",
       "      <td>Senior</td>\n",
       "      <td>Embedded Developer</td>\n",
       "      <td>10</td>\n",
       "      <td>C/C++</td>\n",
       "      <td>66000.0</td>\n",
       "      <td>NaN</td>\n",
       "      <td>...</td>\n",
       "      <td>NaN</td>\n",
       "      <td>NaN</td>\n",
       "      <td>30.0</td>\n",
       "      <td>0.0</td>\n",
       "      <td>English</td>\n",
       "      <td>Luxoft</td>\n",
       "      <td>50-100</td>\n",
       "      <td>Product</td>\n",
       "      <td>unlimited</td>\n",
       "      <td>Automotive</td>\n",
       "    </tr>\n",
       "    <tr>\n",
       "      <th>...</th>\n",
       "      <td>...</td>\n",
       "      <td>...</td>\n",
       "      <td>...</td>\n",
       "      <td>...</td>\n",
       "      <td>...</td>\n",
       "      <td>...</td>\n",
       "      <td>...</td>\n",
       "      <td>...</td>\n",
       "      <td>...</td>\n",
       "      <td>...</td>\n",
       "      <td>...</td>\n",
       "      <td>...</td>\n",
       "      <td>...</td>\n",
       "      <td>...</td>\n",
       "      <td>...</td>\n",
       "      <td>...</td>\n",
       "      <td>...</td>\n",
       "      <td>...</td>\n",
       "      <td>...</td>\n",
       "      <td>...</td>\n",
       "      <td>...</td>\n",
       "    </tr>\n",
       "    <tr>\n",
       "      <th>986</th>\n",
       "      <td>07.01.2020 09:23:01</td>\n",
       "      <td>30.0</td>\n",
       "      <td>Male</td>\n",
       "      <td>Amsterdam</td>\n",
       "      <td>Senior</td>\n",
       "      <td>Backend Developer</td>\n",
       "      <td>10</td>\n",
       "      <td>Python</td>\n",
       "      <td>71000.0</td>\n",
       "      <td>3000.0</td>\n",
       "      <td>...</td>\n",
       "      <td>3000.0</td>\n",
       "      <td>0.0</td>\n",
       "      <td>25.0</td>\n",
       "      <td>5.0</td>\n",
       "      <td>English</td>\n",
       "      <td>NaN</td>\n",
       "      <td>1000+</td>\n",
       "      <td>Product</td>\n",
       "      <td>unlimited</td>\n",
       "      <td>Telecom</td>\n",
       "    </tr>\n",
       "    <tr>\n",
       "      <th>987</th>\n",
       "      <td>07.01.2020 10:08:18</td>\n",
       "      <td>28.0</td>\n",
       "      <td>Male</td>\n",
       "      <td>Amsterdam</td>\n",
       "      <td>Senior</td>\n",
       "      <td>Security Engineer</td>\n",
       "      <td>7</td>\n",
       "      <td>Not Relevant</td>\n",
       "      <td>72000.0</td>\n",
       "      <td>0.0</td>\n",
       "      <td>...</td>\n",
       "      <td>0.0</td>\n",
       "      <td>0.0</td>\n",
       "      <td>27.0</td>\n",
       "      <td>5.0</td>\n",
       "      <td>English</td>\n",
       "      <td>ING</td>\n",
       "      <td>1000+</td>\n",
       "      <td>Bank</td>\n",
       "      <td>unlimited</td>\n",
       "      <td>Finance / Insurance</td>\n",
       "    </tr>\n",
       "    <tr>\n",
       "      <th>988</th>\n",
       "      <td>07.01.2020 16:52:43</td>\n",
       "      <td>42.0</td>\n",
       "      <td>Male</td>\n",
       "      <td>Munich</td>\n",
       "      <td>Senior</td>\n",
       "      <td>Manager</td>\n",
       "      <td>9</td>\n",
       "      <td>Not Relevant</td>\n",
       "      <td>68000.0</td>\n",
       "      <td>10000.0</td>\n",
       "      <td>...</td>\n",
       "      <td>9000.0</td>\n",
       "      <td>NaN</td>\n",
       "      <td>30.0</td>\n",
       "      <td>5.0</td>\n",
       "      <td>English</td>\n",
       "      <td>SAP</td>\n",
       "      <td>1000+</td>\n",
       "      <td>Product</td>\n",
       "      <td>unlimited</td>\n",
       "      <td>Сommerce</td>\n",
       "    </tr>\n",
       "    <tr>\n",
       "      <th>989</th>\n",
       "      <td>08.01.2020 11:18:41</td>\n",
       "      <td>33.0</td>\n",
       "      <td>Male</td>\n",
       "      <td>Berlin</td>\n",
       "      <td>Senior</td>\n",
       "      <td>Software Architect</td>\n",
       "      <td>15</td>\n",
       "      <td>Javascript / Typescript</td>\n",
       "      <td>100000.0</td>\n",
       "      <td>3000.0</td>\n",
       "      <td>...</td>\n",
       "      <td>5000.0</td>\n",
       "      <td>NaN</td>\n",
       "      <td>26.0</td>\n",
       "      <td>6.0</td>\n",
       "      <td>English</td>\n",
       "      <td>NaN</td>\n",
       "      <td>1000+</td>\n",
       "      <td>Product</td>\n",
       "      <td>more than 1 year</td>\n",
       "      <td>Health</td>\n",
       "    </tr>\n",
       "    <tr>\n",
       "      <th>990</th>\n",
       "      <td>08.01.2020 22:20:08</td>\n",
       "      <td>32.0</td>\n",
       "      <td>Male</td>\n",
       "      <td>Frankfurt</td>\n",
       "      <td>Middle</td>\n",
       "      <td>Fullstack Developer</td>\n",
       "      <td>5</td>\n",
       "      <td>Java</td>\n",
       "      <td>63000.0</td>\n",
       "      <td>NaN</td>\n",
       "      <td>...</td>\n",
       "      <td>NaN</td>\n",
       "      <td>NaN</td>\n",
       "      <td>30.0</td>\n",
       "      <td>5.0</td>\n",
       "      <td>Deutsch</td>\n",
       "      <td>NaN</td>\n",
       "      <td>1000+</td>\n",
       "      <td>Consulting / Agency</td>\n",
       "      <td>unlimited</td>\n",
       "      <td>Transport</td>\n",
       "    </tr>\n",
       "  </tbody>\n",
       "</table>\n",
       "<p>991 rows × 22 columns</p>\n",
       "</div>"
      ],
      "text/plain": [
       "               timestamp   age gender       city seniority_level  \\\n",
       "0    02.12.2019 11:18:26  33.0   Male     Berlin          Senior   \n",
       "1    02.12.2019 11:18:35  29.0   Male     Berlin          Middle   \n",
       "2    02.12.2019 11:18:56   NaN   Male     Berlin          Middle   \n",
       "3    02.12.2019 11:19:08  30.0   Male     Berlin          Senior   \n",
       "4    02.12.2019 11:19:37  32.0   Male     Berlin          Senior   \n",
       "..                   ...   ...    ...        ...             ...   \n",
       "986  07.01.2020 09:23:01  30.0   Male  Amsterdam          Senior   \n",
       "987  07.01.2020 10:08:18  28.0   Male  Amsterdam          Senior   \n",
       "988  07.01.2020 16:52:43  42.0   Male     Munich          Senior   \n",
       "989  08.01.2020 11:18:41  33.0   Male     Berlin          Senior   \n",
       "990  08.01.2020 22:20:08  32.0   Male  Frankfurt          Middle   \n",
       "\n",
       "                position  years_experience          main_technology  \\\n",
       "0    Fullstack Developer                13                      PHP   \n",
       "1      Backend Developer                 3                   Python   \n",
       "2       Mobile Developer                 4                   Kotlin   \n",
       "3      Backend Developer                 6                      PHP   \n",
       "4     Embedded Developer                10                    C/C++   \n",
       "..                   ...               ...                      ...   \n",
       "986    Backend Developer                10                   Python   \n",
       "987    Security Engineer                 7             Not Relevant   \n",
       "988              Manager                 9             Not Relevant   \n",
       "989   Software Architect                15  Javascript / Typescript   \n",
       "990  Fullstack Developer                 5                     Java   \n",
       "\n",
       "     current_salary    bonus  ...  bonus_1_year_ago  stocks_1_year_ago  \\\n",
       "0           64000.0   1000.0  ...            1000.0                NaN   \n",
       "1           55000.0      NaN  ...               NaN                NaN   \n",
       "2           70000.0      NaN  ...               NaN                NaN   \n",
       "3           63000.0      NaN  ...               NaN                NaN   \n",
       "4           66000.0      NaN  ...               NaN                NaN   \n",
       "..              ...      ...  ...               ...                ...   \n",
       "986         71000.0   3000.0  ...            3000.0                0.0   \n",
       "987         72000.0      0.0  ...               0.0                0.0   \n",
       "988         68000.0  10000.0  ...            9000.0                NaN   \n",
       "989        100000.0   3000.0  ...            5000.0                NaN   \n",
       "990         63000.0      NaN  ...               NaN                NaN   \n",
       "\n",
       "     vacation_days  home_office_days  main_language  company_name  \\\n",
       "0             29.0               4.0        English           NaN   \n",
       "1             22.0               4.0        English           NaN   \n",
       "2             27.0               NaN        English           NaN   \n",
       "3             24.0               NaN        English         Auto1   \n",
       "4             30.0               0.0        English        Luxoft   \n",
       "..             ...               ...            ...           ...   \n",
       "986           25.0               5.0        English           NaN   \n",
       "987           27.0               5.0        English           ING   \n",
       "988           30.0               5.0        English           SAP   \n",
       "989           26.0               6.0        English           NaN   \n",
       "990           30.0               5.0        Deutsch           NaN   \n",
       "\n",
       "    company_size         company_type contract_duration        business_sector  \n",
       "0         50-100              Startup         unlimited                Tourism  \n",
       "1          10-50              Product         unlimited  Scientific Activities  \n",
       "2          1000+              Startup         unlimited                    NaN  \n",
       "3       100-1000              Product         unlimited              Transport  \n",
       "4         50-100              Product         unlimited             Automotive  \n",
       "..           ...                  ...               ...                    ...  \n",
       "986        1000+              Product         unlimited                Telecom  \n",
       "987        1000+                 Bank         unlimited    Finance / Insurance  \n",
       "988        1000+              Product         unlimited               Сommerce  \n",
       "989        1000+              Product  more than 1 year                 Health  \n",
       "990        1000+  Consulting / Agency         unlimited              Transport  \n",
       "\n",
       "[991 rows x 22 columns]"
      ]
     },
     "execution_count": 10,
     "metadata": {},
     "output_type": "execute_result"
    }
   ],
   "source": [
    "data_2019"
   ]
  },
  {
   "cell_type": "code",
   "execution_count": 8,
   "id": "5a40e044",
   "metadata": {},
   "outputs": [],
   "source": [
    "data_2020.columns = ['timestamp', 'age', 'gender', 'city', 'position', \n",
    "                     'years_experience', 'experience_in_germany', \n",
    "                     'seniority_level', 'main_technology', 'other_technologies', \n",
    "                     'current_salary', 'bonus_and_stocks', 'salary_1_year_ago', \n",
    "                     'bonus_1_year_ago', 'vacation_days', 'employment_status', \n",
    "                     'contract_duration', 'main_language', 'company_size', \n",
    "                     'company_type', 'lost_job_due_to_covid', 'shorter_working_week',\n",
    "                     'additional_support']"
   ]
  },
  {
   "cell_type": "code",
   "execution_count": 15,
   "id": "506857c5",
   "metadata": {},
   "outputs": [],
   "source": [
    "data_2018['year'] = 2018\n",
    "data_2019['year'] = 2019\n",
    "data_2020['year'] = 2020"
   ]
  },
  {
   "cell_type": "code",
   "execution_count": 16,
   "id": "4df8cd68",
   "metadata": {},
   "outputs": [
    {
     "name": "stdout",
     "output_type": "stream",
     "text": [
      "timestamp               0\n",
      "age                    93\n",
      "gender                 14\n",
      "city                   29\n",
      "position               28\n",
      "years_experience       33\n",
      "seniority_level        22\n",
      "current_salary         15\n",
      "salary_1_year_ago     169\n",
      "salary_2_years_ago    302\n",
      "stock_options          23\n",
      "main_language          15\n",
      "company_size           15\n",
      "company_type           35\n",
      "year                    0\n",
      "dtype: int64\n",
      "timestamp              0\n",
      "age                  109\n",
      "gender                 0\n",
      "city                   0\n",
      "seniority_level       15\n",
      "position               1\n",
      "years_experience       0\n",
      "main_technology       14\n",
      "current_salary         1\n",
      "bonus                461\n",
      "stocks               788\n",
      "salary_1_year_ago    388\n",
      "bonus_1_year_ago     734\n",
      "stocks_1_year_ago    852\n",
      "vacation_days         60\n",
      "home_office_days     352\n",
      "main_language          5\n",
      "company_name         735\n",
      "company_size          14\n",
      "company_type          31\n",
      "contract_duration     29\n",
      "business_sector      145\n",
      "year                   0\n",
      "dtype: int64\n",
      "timestamp                  0\n",
      "age                       27\n",
      "gender                    10\n",
      "city                       0\n",
      "position                   6\n",
      "years_experience          16\n",
      "experience_in_germany     32\n",
      "seniority_level           12\n",
      "main_technology          127\n",
      "other_technologies       157\n",
      "current_salary             0\n",
      "bonus_and_stocks         424\n",
      "salary_1_year_ago        368\n",
      "bonus_1_year_ago         639\n",
      "vacation_days             68\n",
      "employment_status         17\n",
      "contract_duration         29\n",
      "main_language             16\n",
      "company_size              18\n",
      "company_type              25\n",
      "lost_job_due_to_covid     20\n",
      "shorter_working_week     880\n",
      "additional_support       791\n",
      "year                       0\n",
      "dtype: int64\n"
     ]
    }
   ],
   "source": [
    "print(data_2018.isnull().sum())\n",
    "print(data_2019.isnull().sum())\n",
    "print(data_2020.isnull().sum())\n"
   ]
  },
  {
   "cell_type": "code",
   "execution_count": 25,
   "id": "d58eb289",
   "metadata": {},
   "outputs": [
    {
     "name": "stdout",
     "output_type": "stream",
     "text": [
      "<class 'pandas.core.frame.DataFrame'>\n",
      "RangeIndex: 1253 entries, 0 to 1252\n",
      "Data columns (total 24 columns):\n",
      " #   Column                 Non-Null Count  Dtype  \n",
      "---  ------                 --------------  -----  \n",
      " 0   timestamp              1253 non-null   object \n",
      " 1   age                    1226 non-null   float64\n",
      " 2   gender                 1243 non-null   object \n",
      " 3   city                   1253 non-null   object \n",
      " 4   position               1247 non-null   object \n",
      " 5   years_experience       1237 non-null   object \n",
      " 6   experience_in_germany  1221 non-null   object \n",
      " 7   seniority_level        1241 non-null   object \n",
      " 8   main_technology        1126 non-null   object \n",
      " 9   other_technologies     1096 non-null   object \n",
      " 10  current_salary         1253 non-null   float64\n",
      " 11  bonus_and_stocks       829 non-null    object \n",
      " 12  salary_1_year_ago      885 non-null    float64\n",
      " 13  bonus_1_year_ago       614 non-null    object \n",
      " 14  vacation_days          1185 non-null   object \n",
      " 15  employment_status      1236 non-null   object \n",
      " 16  contract_duration      1224 non-null   object \n",
      " 17  main_language          1237 non-null   object \n",
      " 18  company_size           1235 non-null   object \n",
      " 19  company_type           1228 non-null   object \n",
      " 20  lost_job_due_to_covid  1233 non-null   object \n",
      " 21  shorter_working_week   373 non-null    float64\n",
      " 22  additional_support     462 non-null    object \n",
      " 23  year                   1253 non-null   int64  \n",
      "dtypes: float64(4), int64(1), object(19)\n",
      "memory usage: 235.1+ KB\n"
     ]
    }
   ],
   "source": [
    "data_2020.info()"
   ]
  },
  {
   "cell_type": "code",
   "execution_count": 18,
   "id": "47db020c",
   "metadata": {},
   "outputs": [],
   "source": [
    "data_2018.fillna({'age': 0,'years_experience': 0,'current_salary': 0, 'salary_1_year_ago': 0, 'salary_2_years_ago': 0}, inplace=True)"
   ]
  },
  {
   "cell_type": "code",
   "execution_count": 19,
   "id": "4e632ffb",
   "metadata": {},
   "outputs": [],
   "source": [
    "data_2018.fillna({'gender': 'Unknown', 'city': 'Unknown', 'position': 'Unknown','seniority_level':'Unknown','stock_options':'Unknown','main_language':'Unknown','company_size':'Unknown','company_type':'Unknown'}, inplace=True)"
   ]
  },
  {
   "cell_type": "code",
   "execution_count": 20,
   "id": "4920feaf",
   "metadata": {
    "collapsed": true
   },
   "outputs": [
    {
     "name": "stdout",
     "output_type": "stream",
     "text": [
      "timestamp             0\n",
      "age                   0\n",
      "gender                0\n",
      "city                  0\n",
      "position              0\n",
      "years_experience      0\n",
      "seniority_level       0\n",
      "current_salary        0\n",
      "salary_1_year_ago     0\n",
      "salary_2_years_ago    0\n",
      "stock_options         0\n",
      "main_language         0\n",
      "company_size          0\n",
      "company_type          0\n",
      "year                  0\n",
      "dtype: int64\n"
     ]
    }
   ],
   "source": [
    "print(data_2018.isnull().sum())"
   ]
  },
  {
   "cell_type": "code",
   "execution_count": 22,
   "id": "4689490d",
   "metadata": {},
   "outputs": [],
   "source": [
    "data_2019.fillna({'age':0,'years_experience':0,'current_salary': 0, 'bonus': 0, 'stocks': 0,'salary_1_year_ago':0,'bonus_1_year_ago':0,'stocks_1_year_ago':0,'vacation_days':0,'home_office_days':0,'year':0}, inplace=True)"
   ]
  },
  {
   "cell_type": "code",
   "execution_count": 23,
   "id": "fc496840",
   "metadata": {},
   "outputs": [],
   "source": [
    "data_2019.fillna({'gender': 'Unknown', 'city': 'Unknown', 'position': 'Unknown','seniority_level':'Unknown','main_technology':'Unknown','main_language':'Unknown','company_name':'Unknown','company_size':'Unknown','company_type':'Unknown','contract_duration':'Unknown','business_sector':'Unknown'}, inplace=True)"
   ]
  },
  {
   "cell_type": "code",
   "execution_count": 24,
   "id": "2c13a4fc",
   "metadata": {
    "collapsed": true
   },
   "outputs": [
    {
     "name": "stdout",
     "output_type": "stream",
     "text": [
      "timestamp            0\n",
      "age                  0\n",
      "gender               0\n",
      "city                 0\n",
      "seniority_level      0\n",
      "position             0\n",
      "years_experience     0\n",
      "main_technology      0\n",
      "current_salary       0\n",
      "bonus                0\n",
      "stocks               0\n",
      "salary_1_year_ago    0\n",
      "bonus_1_year_ago     0\n",
      "stocks_1_year_ago    0\n",
      "vacation_days        0\n",
      "home_office_days     0\n",
      "main_language        0\n",
      "company_name         0\n",
      "company_size         0\n",
      "company_type         0\n",
      "contract_duration    0\n",
      "business_sector      0\n",
      "year                 0\n",
      "dtype: int64\n"
     ]
    }
   ],
   "source": [
    "print(data_2019.isnull().sum())"
   ]
  },
  {
   "cell_type": "code",
   "execution_count": 28,
   "id": "65bd0ea2",
   "metadata": {},
   "outputs": [],
   "source": [
    "data_2020.fillna({'age':0,'current_salary': 0, 'salary_1_year_ago': 0,'shorter_working_week':0,'year':0}, inplace=True)"
   ]
  },
  {
   "cell_type": "code",
   "execution_count": 41,
   "id": "a3b34956",
   "metadata": {},
   "outputs": [],
   "source": [
    "data_2020.fillna({'gender': 'Unknown', 'city': 'Unknown', 'position': 'Unknown','years_experience':0,'experience_in_germany':0,'seniority_level':'Unknown','main_technology':'Unknown','other_technologies':'Unknown','bonus_and_stocks':0,'bonus_1_year_ago':0,'vacation_days':0,'employment_status':'Unknown','contract_duration':'Unknown','main_language':'Unknown','company_size':'Unknown','company_type':'Unknown','lost_job_due_to_covid':'Unknown','additional_support':0}, inplace=True)"
   ]
  },
  {
   "cell_type": "code",
   "execution_count": 39,
   "id": "6cddc104",
   "metadata": {},
   "outputs": [
    {
     "name": "stdout",
     "output_type": "stream",
     "text": [
      "timestamp                0\n",
      "age                      0\n",
      "gender                   0\n",
      "city                     0\n",
      "position                 0\n",
      "years_experience         0\n",
      "experience_in_germany    0\n",
      "seniority_level          0\n",
      "main_technology          0\n",
      "other_technologies       0\n",
      "current_salary           0\n",
      "bonus_and_stocks         0\n",
      "salary_1_year_ago        0\n",
      "bonus_1_year_ago         0\n",
      "vacation_days            0\n",
      "employment_status        0\n",
      "contract_duration        0\n",
      "main_language            0\n",
      "company_size             0\n",
      "company_type             0\n",
      "lost_job_due_to_covid    0\n",
      "shorter_working_week     0\n",
      "additional_support       0\n",
      "year                     0\n",
      "dtype: int64\n"
     ]
    }
   ],
   "source": [
    "print(data_2020.isnull().sum())"
   ]
  },
  {
   "cell_type": "code",
   "execution_count": 35,
   "id": "c642d4f2",
   "metadata": {
    "collapsed": true
   },
   "outputs": [
    {
     "name": "stdout",
     "output_type": "stream",
     "text": [
      "<class 'pandas.core.frame.DataFrame'>\n",
      "RangeIndex: 1253 entries, 0 to 1252\n",
      "Data columns (total 24 columns):\n",
      " #   Column                 Non-Null Count  Dtype  \n",
      "---  ------                 --------------  -----  \n",
      " 0   timestamp              1253 non-null   object \n",
      " 1   age                    1253 non-null   float64\n",
      " 2   gender                 1253 non-null   object \n",
      " 3   city                   1253 non-null   object \n",
      " 4   position               1253 non-null   object \n",
      " 5   years_experience       1253 non-null   object \n",
      " 6   experience_in_germany  1253 non-null   object \n",
      " 7   seniority_level        1253 non-null   object \n",
      " 8   main_technology        1253 non-null   object \n",
      " 9   other_technologies     1253 non-null   object \n",
      " 10  current_salary         1253 non-null   float64\n",
      " 11  bonus_and_stocks       1253 non-null   object \n",
      " 12  salary_1_year_ago      1253 non-null   float64\n",
      " 13  bonus_1_year_ago       1253 non-null   object \n",
      " 14  vacation_days          1253 non-null   object \n",
      " 15  employment_status      1253 non-null   object \n",
      " 16  contract_duration      1253 non-null   object \n",
      " 17  main_language          1253 non-null   object \n",
      " 18  company_size           1253 non-null   object \n",
      " 19  company_type           1253 non-null   object \n",
      " 20  lost_job_due_to_covid  1253 non-null   object \n",
      " 21  shorter_working_week   1253 non-null   float64\n",
      " 22  additional_support     1253 non-null   object \n",
      " 23  year                   1253 non-null   int64  \n",
      "dtypes: float64(4), int64(1), object(19)\n",
      "memory usage: 235.1+ KB\n"
     ]
    }
   ],
   "source": [
    "data_2020.info()"
   ]
  },
  {
   "cell_type": "code",
   "execution_count": 42,
   "id": "0199fff2",
   "metadata": {
    "scrolled": true
   },
   "outputs": [
    {
     "name": "stdout",
     "output_type": "stream",
     "text": [
      "0    100-1000\n",
      "1      50-100\n",
      "2       1000+\n",
      "3       1000+\n",
      "4    100-1000\n",
      "Name: company_size, dtype: object\n",
      "object\n"
     ]
    }
   ],
   "source": [
    "print(data_2018['company_size'].head())\n",
    "print(data_2018['company_size'].dtype)"
   ]
  },
  {
   "cell_type": "code",
   "execution_count": 43,
   "id": "70f7486d",
   "metadata": {},
   "outputs": [],
   "source": [
    "data_2018['company_size'] = data_2018['company_size'].str.strip()"
   ]
  },
  {
   "cell_type": "code",
   "execution_count": 44,
   "id": "9ce9c079",
   "metadata": {},
   "outputs": [],
   "source": [
    "data_2018['company_size'] = data_2018['company_size'].replace('Unknown', '0')"
   ]
  },
  {
   "cell_type": "code",
   "execution_count": 45,
   "id": "e30b58a0",
   "metadata": {},
   "outputs": [],
   "source": [
    "data_2018['company_size'] = data_2018['company_size'].str.split('-').str[0]\n",
    "data_2018['company_size'] = pd.to_numeric(data_2018['company_size'], errors='coerce')"
   ]
  },
  {
   "cell_type": "code",
   "execution_count": 47,
   "id": "c1615d40",
   "metadata": {},
   "outputs": [
    {
     "data": {
      "text/plain": [
       "0      100.0\n",
       "1       50.0\n",
       "2        NaN\n",
       "3        NaN\n",
       "4      100.0\n",
       "       ...  \n",
       "760     10.0\n",
       "761     10.0\n",
       "762     10.0\n",
       "763      0.0\n",
       "764      NaN\n",
       "Name: company_size, Length: 765, dtype: float64"
      ]
     },
     "execution_count": 47,
     "metadata": {},
     "output_type": "execute_result"
    }
   ],
   "source": [
    "data_2018['company_size']"
   ]
  },
  {
   "cell_type": "code",
   "execution_count": 48,
   "id": "98ed1d9c",
   "metadata": {},
   "outputs": [
    {
     "name": "stdout",
     "output_type": "stream",
     "text": [
      "timestamp               0\n",
      "age                     0\n",
      "gender                  0\n",
      "city                    0\n",
      "position                0\n",
      "years_experience        0\n",
      "seniority_level         0\n",
      "current_salary          0\n",
      "salary_1_year_ago       0\n",
      "salary_2_years_ago      0\n",
      "stock_options           0\n",
      "main_language           0\n",
      "company_size          253\n",
      "company_type            0\n",
      "year                    0\n",
      "dtype: int64\n"
     ]
    }
   ],
   "source": [
    "print(data_2018.isnull().sum())"
   ]
  },
  {
   "cell_type": "code",
   "execution_count": 49,
   "id": "afde8baa",
   "metadata": {},
   "outputs": [
    {
     "name": "stdout",
     "output_type": "stream",
     "text": [
      "0      50-100\n",
      "1       10-50\n",
      "2       1000+\n",
      "3    100-1000\n",
      "4      50-100\n",
      "Name: company_size, dtype: object\n",
      "object\n"
     ]
    }
   ],
   "source": [
    "print(data_2019['company_size'].head())\n",
    "print(data_2019['company_size'].dtype)"
   ]
  },
  {
   "cell_type": "code",
   "execution_count": 50,
   "id": "79185621",
   "metadata": {},
   "outputs": [],
   "source": [
    "data_2019['company_size'] = data_2019['company_size'].str.strip()"
   ]
  },
  {
   "cell_type": "code",
   "execution_count": 51,
   "id": "aad23e69",
   "metadata": {},
   "outputs": [],
   "source": [
    "data_2019['company_size'] = data_2019['company_size'].str.split('-').str[0]\n",
    "data_2019['company_size'] = pd.to_numeric(data_2019['company_size'], errors='coerce')"
   ]
  },
  {
   "cell_type": "code",
   "execution_count": 52,
   "id": "2e636f40",
   "metadata": {},
   "outputs": [
    {
     "data": {
      "text/plain": [
       "0       50.0\n",
       "1       10.0\n",
       "2        NaN\n",
       "3      100.0\n",
       "4       50.0\n",
       "       ...  \n",
       "986      NaN\n",
       "987      NaN\n",
       "988      NaN\n",
       "989      NaN\n",
       "990      NaN\n",
       "Name: company_size, Length: 991, dtype: float64"
      ]
     },
     "execution_count": 52,
     "metadata": {},
     "output_type": "execute_result"
    }
   ],
   "source": [
    "data_2019['company_size']"
   ]
  },
  {
   "cell_type": "code",
   "execution_count": 53,
   "id": "ca0079cb",
   "metadata": {},
   "outputs": [
    {
     "name": "stdout",
     "output_type": "stream",
     "text": [
      "timestamp              0\n",
      "age                    0\n",
      "gender                 0\n",
      "city                   0\n",
      "seniority_level        0\n",
      "position               0\n",
      "years_experience       0\n",
      "main_technology        0\n",
      "current_salary         0\n",
      "bonus                  0\n",
      "stocks                 0\n",
      "salary_1_year_ago      0\n",
      "bonus_1_year_ago       0\n",
      "stocks_1_year_ago      0\n",
      "vacation_days          0\n",
      "home_office_days       0\n",
      "main_language          0\n",
      "company_name           0\n",
      "company_size         388\n",
      "company_type           0\n",
      "contract_duration      0\n",
      "business_sector        0\n",
      "year                   0\n",
      "dtype: int64\n"
     ]
    }
   ],
   "source": [
    "print(data_2019.isnull().sum())"
   ]
  },
  {
   "cell_type": "code",
   "execution_count": 61,
   "id": "83459355",
   "metadata": {},
   "outputs": [
    {
     "name": "stdout",
     "output_type": "stream",
     "text": [
      "0     5\n",
      "1     7\n",
      "2    12\n",
      "3     4\n",
      "4    17\n",
      "Name: years_experience, dtype: object\n",
      "object\n"
     ]
    }
   ],
   "source": [
    "print(data_2020['years_experience'].head())\n",
    "print(data_2020['years_experience'].dtype)"
   ]
  },
  {
   "cell_type": "code",
   "execution_count": 62,
   "id": "dfe8084c",
   "metadata": {},
   "outputs": [],
   "source": [
    "data_2020['years_experience'] = data_2020['years_experience'].str.strip()"
   ]
  },
  {
   "cell_type": "code",
   "execution_count": 63,
   "id": "9665ed97",
   "metadata": {},
   "outputs": [],
   "source": [
    "data_2020['years_experience'] = data_2020['years_experience'].str.split('-').str[0]\n",
    "data_2020['years_experience'] = pd.to_numeric(data_2020['years_experience'], errors='coerce')"
   ]
  },
  {
   "cell_type": "code",
   "execution_count": 64,
   "id": "d58345b8",
   "metadata": {},
   "outputs": [
    {
     "data": {
      "text/plain": [
       "0        5.0\n",
       "1        7.0\n",
       "2       12.0\n",
       "3        4.0\n",
       "4       17.0\n",
       "        ... \n",
       "1248     9.0\n",
       "1249    10.0\n",
       "1250    15.0\n",
       "1251     7.0\n",
       "1252     2.0\n",
       "Name: years_experience, Length: 1253, dtype: float64"
      ]
     },
     "execution_count": 64,
     "metadata": {},
     "output_type": "execute_result"
    }
   ],
   "source": [
    "data_2020['years_experience']"
   ]
  },
  {
   "cell_type": "code",
   "execution_count": 65,
   "id": "bf00b89d",
   "metadata": {},
   "outputs": [
    {
     "name": "stdout",
     "output_type": "stream",
     "text": [
      "0    3\n",
      "1    4\n",
      "2    6\n",
      "3    1\n",
      "4    6\n",
      "Name: experience_in_germany, dtype: object\n",
      "object\n"
     ]
    }
   ],
   "source": [
    "print(data_2020['experience_in_germany'].head())\n",
    "print(data_2020['experience_in_germany'].dtype)"
   ]
  },
  {
   "cell_type": "code",
   "execution_count": 66,
   "id": "8e9da418",
   "metadata": {},
   "outputs": [],
   "source": [
    "data_2020['experience_in_germany'] = data_2020['experience_in_germany'].str.strip()"
   ]
  },
  {
   "cell_type": "code",
   "execution_count": 67,
   "id": "b3a99515",
   "metadata": {},
   "outputs": [],
   "source": [
    "data_2020['experience_in_germany'] = data_2020['experience_in_germany'].str.split('-').str[0]\n",
    "data_2020['experience_in_germany'] = pd.to_numeric(data_2020['experience_in_germany'], errors='coerce')"
   ]
  },
  {
   "cell_type": "code",
   "execution_count": 68,
   "id": "e8a6a038",
   "metadata": {},
   "outputs": [
    {
     "data": {
      "text/plain": [
       "0       3.0\n",
       "1       4.0\n",
       "2       6.0\n",
       "3       1.0\n",
       "4       6.0\n",
       "       ... \n",
       "1248    5.0\n",
       "1249    1.5\n",
       "1250    2.0\n",
       "1251    7.0\n",
       "1252    2.0\n",
       "Name: experience_in_germany, Length: 1253, dtype: float64"
      ]
     },
     "execution_count": 68,
     "metadata": {},
     "output_type": "execute_result"
    }
   ],
   "source": [
    "data_2020['experience_in_germany']"
   ]
  },
  {
   "cell_type": "code",
   "execution_count": 69,
   "id": "365009b0",
   "metadata": {},
   "outputs": [
    {
     "name": "stdout",
     "output_type": "stream",
     "text": [
      "0       5000\n",
      "1    Unknown\n",
      "2     120000\n",
      "3    Unknown\n",
      "4    Unknown\n",
      "Name: bonus_and_stocks, dtype: object\n",
      "object\n"
     ]
    }
   ],
   "source": [
    "print(data_2020['bonus_and_stocks'].head())\n",
    "print(data_2020['bonus_and_stocks'].dtype)"
   ]
  },
  {
   "cell_type": "code",
   "execution_count": 70,
   "id": "6d88e334",
   "metadata": {},
   "outputs": [],
   "source": [
    "data_2020['bonus_and_stocks'] = data_2020['bonus_and_stocks'].str.strip()"
   ]
  },
  {
   "cell_type": "code",
   "execution_count": 71,
   "id": "30c77c89",
   "metadata": {},
   "outputs": [],
   "source": [
    "data_2020['bonus_and_stocks'] = data_2020['bonus_and_stocks'].str.split('-').str[0]\n",
    "data_2020['bonus_and_stocks'] = pd.to_numeric(data_2020['bonus_and_stocks'], errors='coerce')"
   ]
  },
  {
   "cell_type": "code",
   "execution_count": 72,
   "id": "c800e971",
   "metadata": {},
   "outputs": [
    {
     "data": {
      "text/plain": [
       "0         5000.0\n",
       "1            NaN\n",
       "2       120000.0\n",
       "3            NaN\n",
       "4            NaN\n",
       "          ...   \n",
       "1248     72000.0\n",
       "1249      3000.0\n",
       "1250         0.0\n",
       "1251     40950.0\n",
       "1252      6500.0\n",
       "Name: bonus_and_stocks, Length: 1253, dtype: float64"
      ]
     },
     "execution_count": 72,
     "metadata": {},
     "output_type": "execute_result"
    }
   ],
   "source": [
    "data_2020['bonus_and_stocks']"
   ]
  },
  {
   "cell_type": "code",
   "execution_count": 73,
   "id": "11f3f7cb",
   "metadata": {},
   "outputs": [
    {
     "name": "stdout",
     "output_type": "stream",
     "text": [
      "0      10000\n",
      "1       5000\n",
      "2     100000\n",
      "3    Unknown\n",
      "4    Unknown\n",
      "Name: bonus_1_year_ago, dtype: object\n",
      "object\n"
     ]
    }
   ],
   "source": [
    "print(data_2020['bonus_1_year_ago'].head())\n",
    "print(data_2020['bonus_1_year_ago'].dtype)"
   ]
  },
  {
   "cell_type": "code",
   "execution_count": 74,
   "id": "826d3c98",
   "metadata": {},
   "outputs": [],
   "source": [
    "data_2020['bonus_1_year_ago'] = data_2020['bonus_1_year_ago'].str.strip()"
   ]
  },
  {
   "cell_type": "code",
   "execution_count": 77,
   "id": "62a08e89",
   "metadata": {},
   "outputs": [],
   "source": [
    "data_2020['bonus_1_year_ago'] = data_2020['bonus_1_year_ago'].str.split('-').str[0]\n",
    "data_2020['bonus_1_year_ago'] = pd.to_numeric(data_2020['bonus_1_year_ago'], errors='coerce')"
   ]
  },
  {
   "cell_type": "code",
   "execution_count": 78,
   "id": "60991fb0",
   "metadata": {},
   "outputs": [
    {
     "data": {
      "text/plain": [
       "0        10000.0\n",
       "1         5000.0\n",
       "2       100000.0\n",
       "3            NaN\n",
       "4            NaN\n",
       "          ...   \n",
       "1248     72000.0\n",
       "1249      2500.0\n",
       "1250         NaN\n",
       "1251     36400.0\n",
       "1252         0.0\n",
       "Name: bonus_1_year_ago, Length: 1253, dtype: float64"
      ]
     },
     "execution_count": 78,
     "metadata": {},
     "output_type": "execute_result"
    }
   ],
   "source": [
    "data_2020['bonus_1_year_ago']"
   ]
  },
  {
   "cell_type": "code",
   "execution_count": 79,
   "id": "ec2e97f9",
   "metadata": {},
   "outputs": [
    {
     "name": "stdout",
     "output_type": "stream",
     "text": [
      "0    30\n",
      "1    28\n",
      "2    30\n",
      "3    24\n",
      "4    29\n",
      "Name: vacation_days, dtype: object\n",
      "object\n"
     ]
    }
   ],
   "source": [
    "print(data_2020['vacation_days'].head())\n",
    "print(data_2020['vacation_days'].dtype)"
   ]
  },
  {
   "cell_type": "code",
   "execution_count": 80,
   "id": "2c71523e",
   "metadata": {},
   "outputs": [],
   "source": [
    "data_2020['vacation_days'] = data_2020['vacation_days'].str.strip()"
   ]
  },
  {
   "cell_type": "code",
   "execution_count": 81,
   "id": "52a02606",
   "metadata": {},
   "outputs": [],
   "source": [
    "data_2020['vacation_days'] = data_2020['vacation_days'].str.split('-').str[0]\n",
    "data_2020['vacation_days'] = pd.to_numeric(data_2020['vacation_days'], errors='coerce')"
   ]
  },
  {
   "cell_type": "code",
   "execution_count": 82,
   "id": "6a4ec36f",
   "metadata": {},
   "outputs": [
    {
     "data": {
      "text/plain": [
       "0       30.0\n",
       "1       28.0\n",
       "2       30.0\n",
       "3       24.0\n",
       "4       29.0\n",
       "        ... \n",
       "1248    26.0\n",
       "1249     NaN\n",
       "1250    28.0\n",
       "1251    27.0\n",
       "1252    30.0\n",
       "Name: vacation_days, Length: 1253, dtype: float64"
      ]
     },
     "execution_count": 82,
     "metadata": {},
     "output_type": "execute_result"
    }
   ],
   "source": [
    "data_2020['vacation_days']"
   ]
  },
  {
   "cell_type": "code",
   "execution_count": 83,
   "id": "c8890547",
   "metadata": {},
   "outputs": [
    {
     "name": "stdout",
     "output_type": "stream",
     "text": [
      "0    Unknown\n",
      "1    Unknown\n",
      "2    Unknown\n",
      "3    Unknown\n",
      "4    Unknown\n",
      "Name: additional_support, dtype: object\n",
      "object\n"
     ]
    }
   ],
   "source": [
    "print(data_2020['additional_support'].head())\n",
    "print(data_2020['additional_support'].dtype)"
   ]
  },
  {
   "cell_type": "code",
   "execution_count": 84,
   "id": "ca0ba778",
   "metadata": {},
   "outputs": [],
   "source": [
    "data_2020['additional_support'] = data_2020['additional_support'].str.strip()"
   ]
  },
  {
   "cell_type": "code",
   "execution_count": 85,
   "id": "d2821d74",
   "metadata": {},
   "outputs": [],
   "source": [
    "data_2020['additional_support'] = data_2020['additional_support'].str.split('-').str[0]\n",
    "data_2020['additional_support'] = pd.to_numeric(data_2020['additional_support'], errors='coerce')"
   ]
  },
  {
   "cell_type": "code",
   "execution_count": 86,
   "id": "cde32b82",
   "metadata": {},
   "outputs": [
    {
     "data": {
      "text/plain": [
       "0         NaN\n",
       "1         NaN\n",
       "2         NaN\n",
       "3         NaN\n",
       "4         NaN\n",
       "        ...  \n",
       "1248      NaN\n",
       "1249      0.0\n",
       "1250      NaN\n",
       "1251      0.0\n",
       "1252    600.0\n",
       "Name: additional_support, Length: 1253, dtype: float64"
      ]
     },
     "execution_count": 86,
     "metadata": {},
     "output_type": "execute_result"
    }
   ],
   "source": [
    "data_2020['additional_support']"
   ]
  },
  {
   "cell_type": "code",
   "execution_count": 87,
   "id": "828936e2",
   "metadata": {
    "collapsed": true
   },
   "outputs": [
    {
     "name": "stdout",
     "output_type": "stream",
     "text": [
      "timestamp                  0\n",
      "age                        0\n",
      "gender                     0\n",
      "city                       0\n",
      "position                   0\n",
      "years_experience          23\n",
      "experience_in_germany     59\n",
      "seniority_level            0\n",
      "main_technology            0\n",
      "other_technologies         0\n",
      "current_salary             0\n",
      "bonus_and_stocks         430\n",
      "salary_1_year_ago          0\n",
      "bonus_1_year_ago         641\n",
      "vacation_days             81\n",
      "employment_status          0\n",
      "contract_duration          0\n",
      "main_language              0\n",
      "company_size             527\n",
      "company_type               0\n",
      "lost_job_due_to_covid      0\n",
      "shorter_working_week       0\n",
      "additional_support       842\n",
      "year                       0\n",
      "dtype: int64\n"
     ]
    }
   ],
   "source": [
    "print(data_2020.isnull().sum())"
   ]
  },
  {
   "cell_type": "code",
   "execution_count": 88,
   "id": "9f67ea31",
   "metadata": {},
   "outputs": [],
   "source": [
    "import seaborn as sns\n"
   ]
  },
  {
   "cell_type": "code",
   "execution_count": 89,
   "id": "32a4a88c",
   "metadata": {
    "collapsed": true
   },
   "outputs": [
    {
     "data": {
      "text/plain": [
       "<Axes: xlabel='company_size'>"
      ]
     },
     "execution_count": 89,
     "metadata": {},
     "output_type": "execute_result"
    },
    {
     "data": {
      "image/png": "[encoded data removed]",
      "text/plain": [
       "<Figure size 640x480 with 1 Axes>"
      ]
     },
     "metadata": {},
     "output_type": "display_data"
    }
   ],
   "source": [
    "sns.boxplot(x=data_2018['company_size'])"
   ]
  },
  {
   "cell_type": "code",
   "execution_count": 91,
   "id": "88c1ea42",
   "metadata": {
    "collapsed": true
   },
   "outputs": [
    {
     "data": {
      "text/plain": [
       "<Axes: xlabel='company_size'>"
      ]
     },
     "execution_count": 91,
     "metadata": {},
     "output_type": "execute_result"
    },
    {
     "data": {
      "image/png": "[encoded data removed]",
      "text/plain": [
       "<Figure size 640x480 with 1 Axes>"
      ]
     },
     "metadata": {},
     "output_type": "display_data"
    }
   ],
   "source": [
    "sns.boxplot(x=data_2019['company_size'])"
   ]
  },
  {
   "cell_type": "code",
   "execution_count": 92,
   "id": "a4ed9c71",
   "metadata": {},
   "outputs": [],
   "source": [
    "data_2018['company_size'].fillna(data_2018['company_size'].mean(), inplace=True)"
   ]
  },
  {
   "cell_type": "code",
   "execution_count": 93,
   "id": "aae322b9",
   "metadata": {},
   "outputs": [],
   "source": [
    "data_2019['company_size'].fillna(data_2019['company_size'].mean(), inplace=True)"
   ]
  },
  {
   "cell_type": "code",
   "execution_count": 95,
   "id": "fb52a2f7",
   "metadata": {
    "collapsed": true
   },
   "outputs": [
    {
     "name": "stdout",
     "output_type": "stream",
     "text": [
      "timestamp            0\n",
      "age                  0\n",
      "gender               0\n",
      "city                 0\n",
      "seniority_level      0\n",
      "position             0\n",
      "years_experience     0\n",
      "main_technology      0\n",
      "current_salary       0\n",
      "bonus                0\n",
      "stocks               0\n",
      "salary_1_year_ago    0\n",
      "bonus_1_year_ago     0\n",
      "stocks_1_year_ago    0\n",
      "vacation_days        0\n",
      "home_office_days     0\n",
      "main_language        0\n",
      "company_name         0\n",
      "company_size         0\n",
      "company_type         0\n",
      "contract_duration    0\n",
      "business_sector      0\n",
      "year                 0\n",
      "dtype: int64\n"
     ]
    }
   ],
   "source": [
    "print(data_2019.isnull().sum())"
   ]
  },
  {
   "cell_type": "code",
   "execution_count": 101,
   "id": "066eb0dd",
   "metadata": {},
   "outputs": [
    {
     "data": {
      "text/plain": [
       "<Axes: xlabel='additional_support'>"
      ]
     },
     "execution_count": 101,
     "metadata": {},
     "output_type": "execute_result"
    },
    {
     "data": {
      "image/png": "[encoded data removed]",
      "text/plain": [
       "<Figure size 640x480 with 1 Axes>"
      ]
     },
     "metadata": {},
     "output_type": "display_data"
    }
   ],
   "source": [
    "sns.boxplot(x=data_2020['additional_support'])"
   ]
  },
  {
   "cell_type": "code",
   "execution_count": 102,
   "id": "a4630584",
   "metadata": {},
   "outputs": [],
   "source": [
    "Q1 = data_2020['years_experience'].quantile(0.25)\n",
    "Q3 = data_2020['years_experience'].quantile(0.75)\n",
    "IQR = Q3 - Q1\n",
    "\n",
    "lower_bound = Q1 - 1.5 * IQR\n",
    "upper_bound = Q3 + 1.5 * IQR\n",
    "\n",
    "data_2020 = data_2020[(data_2020['years_experience'] >= lower_bound) & (data_2020['years_experience'] <= upper_bound)]\n"
   ]
  },
  {
   "cell_type": "code",
   "execution_count": 103,
   "id": "38af8e70",
   "metadata": {},
   "outputs": [
    {
     "name": "stderr",
     "output_type": "stream",
     "text": [
      "C:\\Users\\BAPS\\AppData\\Local\\Temp\\ipykernel_18352\\61580013.py:1: SettingWithCopyWarning: \n",
      "A value is trying to be set on a copy of a slice from a DataFrame\n",
      "\n",
      "See the caveats in the documentation: https://pandas.pydata.org/pandas-docs/stable/user_guide/indexing.html#returning-a-view-versus-a-copy\n",
      "  data_2020['years_experience'].fillna(data_2020['years_experience'].median(), inplace=True)\n"
     ]
    }
   ],
   "source": [
    "data_2020['years_experience'].fillna(data_2020['years_experience'].median(), inplace=True)"
   ]
  },
  {
   "cell_type": "code",
   "execution_count": 118,
   "id": "7f23d2a7",
   "metadata": {
    "collapsed": true
   },
   "outputs": [
    {
     "name": "stdout",
     "output_type": "stream",
     "text": [
      "timestamp                0\n",
      "age                      0\n",
      "gender                   0\n",
      "city                     0\n",
      "position                 0\n",
      "years_experience         0\n",
      "experience_in_germany    0\n",
      "seniority_level          0\n",
      "main_technology          0\n",
      "other_technologies       0\n",
      "current_salary           0\n",
      "bonus_and_stocks         0\n",
      "salary_1_year_ago        0\n",
      "bonus_1_year_ago         0\n",
      "vacation_days            6\n",
      "employment_status        0\n",
      "contract_duration        0\n",
      "main_language            0\n",
      "company_size             0\n",
      "company_type             0\n",
      "lost_job_due_to_covid    0\n",
      "shorter_working_week     0\n",
      "additional_support       0\n",
      "year                     0\n",
      "dtype: int64\n"
     ]
    }
   ],
   "source": [
    "print(data_2020.isnull().sum())"
   ]
  },
  {
   "cell_type": "code",
   "execution_count": 105,
   "id": "30144deb",
   "metadata": {},
   "outputs": [],
   "source": [
    "Q1 = data_2020['experience_in_germany'].quantile(0.25)\n",
    "Q3 = data_2020['experience_in_germany'].quantile(0.75)\n",
    "IQR = Q3 - Q1\n",
    "\n",
    "lower_bound = Q1 - 1.5 * IQR\n",
    "upper_bound = Q3 + 1.5 * IQR\n",
    "\n",
    "data_2020 = data_2020[(data_2020['experience_in_germany'] >= lower_bound) & (data_2020['experience_in_germany'] <= upper_bound)]"
   ]
  },
  {
   "cell_type": "code",
   "execution_count": 106,
   "id": "5041b707",
   "metadata": {},
   "outputs": [],
   "source": [
    "data_2020['experience_in_germany'].fillna(data_2020['experience_in_germany'].median(), inplace=True)"
   ]
  },
  {
   "cell_type": "code",
   "execution_count": 108,
   "id": "ce828402",
   "metadata": {},
   "outputs": [],
   "source": [
    "Q1 = data_2020['bonus_and_stocks'].quantile(0.25)\n",
    "Q3 = data_2020['bonus_and_stocks'].quantile(0.75)\n",
    "IQR = Q3 - Q1\n",
    "\n",
    "lower_bound = Q1 - 1.5 * IQR\n",
    "upper_bound = Q3 + 1.5 * IQR\n",
    "\n",
    "data_2020 = data_2020[(data_2020['bonus_and_stocks'] >= lower_bound) & (data_2020['bonus_and_stocks'] <= upper_bound)]"
   ]
  },
  {
   "cell_type": "code",
   "execution_count": 109,
   "id": "f9435d40",
   "metadata": {},
   "outputs": [],
   "source": [
    "data_2020['bonus_and_stocks'].fillna(data_2020['bonus_and_stocks'].median(), inplace=True)"
   ]
  },
  {
   "cell_type": "code",
   "execution_count": 110,
   "id": "7f5c689a",
   "metadata": {},
   "outputs": [],
   "source": [
    "Q1 = data_2020['bonus_1_year_ago'].quantile(0.25)\n",
    "Q3 = data_2020['bonus_1_year_ago'].quantile(0.75)\n",
    "IQR = Q3 - Q1\n",
    "\n",
    "lower_bound = Q1 - 1.5 * IQR\n",
    "upper_bound = Q3 + 1.5 * IQR\n",
    "\n",
    "data_2020 = data_2020[(data_2020['bonus_1_year_ago'] >= lower_bound) & (data_2020['bonus_1_year_ago'] <= upper_bound)]"
   ]
  },
  {
   "cell_type": "code",
   "execution_count": 111,
   "id": "21c61659",
   "metadata": {},
   "outputs": [],
   "source": [
    "data_2020['bonus_1_year_ago'].fillna(data_2020['bonus_1_year_ago'].median(), inplace=True)"
   ]
  },
  {
   "cell_type": "code",
   "execution_count": 112,
   "id": "60e196fa",
   "metadata": {},
   "outputs": [],
   "source": [
    "Q1 = data_2020['additional_support'].quantile(0.25)\n",
    "Q3 = data_2020['additional_support'].quantile(0.75)\n",
    "IQR = Q3 - Q1\n",
    "\n",
    "lower_bound = Q1 - 1.5 * IQR\n",
    "upper_bound = Q3 + 1.5 * IQR\n",
    "\n",
    "data_2020 = data_2020[(data_2020['additional_support'] >= lower_bound) & (data_2020['additional_support'] <= upper_bound)]"
   ]
  },
  {
   "cell_type": "code",
   "execution_count": 113,
   "id": "ab26027e",
   "metadata": {},
   "outputs": [],
   "source": [
    "data_2020['additional_support'].fillna(data_2020['additional_support'].median(), inplace=True)"
   ]
  },
  {
   "cell_type": "code",
   "execution_count": 116,
   "id": "1105f3d8",
   "metadata": {},
   "outputs": [
    {
     "data": {
      "text/plain": [
       "<Axes: xlabel='company_size'>"
      ]
     },
     "execution_count": 116,
     "metadata": {},
     "output_type": "execute_result"
    },
    {
     "data": {
      "image/png": "[encoded data removed]",
      "text/plain": [
       "<Figure size 640x480 with 1 Axes>"
      ]
     },
     "metadata": {},
     "output_type": "display_data"
    }
   ],
   "source": [
    "sns.boxplot(x=data_2020['company_size'])"
   ]
  },
  {
   "cell_type": "code",
   "execution_count": 117,
   "id": "9c7d328d",
   "metadata": {},
   "outputs": [],
   "source": [
    "data_2020['company_size'].fillna(data_2019['company_size'].mean(), inplace=True)"
   ]
  },
  {
   "cell_type": "code",
   "execution_count": 129,
   "id": "13f76f6c",
   "metadata": {},
   "outputs": [],
   "source": [
    "data_2018.to_csv(r\"C:\\Users\\BAPS\\Downloads\\IT_2018_cleaned.csv\")"
   ]
  },
  {
   "cell_type": "code",
   "execution_count": 130,
   "id": "24308499",
   "metadata": {},
   "outputs": [],
   "source": [
    "data_2019.to_csv(r\"C:\\Users\\BAPS\\Downloads\\IT_2019_cleaned.csv\")"
   ]
  },
  {
   "cell_type": "code",
   "execution_count": 131,
   "id": "0b28c10d",
   "metadata": {},
   "outputs": [],
   "source": [
    "data_2020.to_csv(r\"C:\\Users\\BAPS\\Downloads\\IT_2020_cleaned.csv\")"
   ]
  },
  {
   "cell_type": "code",
   "execution_count": null,
   "id": "79ca3233",
   "metadata": {},
   "outputs": [],
   "source": []
  }
 ],
 "metadata": {
  "kernelspec": {
   "display_name": "Python 3 (ipykernel)",
   "language": "python",
   "name": "python3"
  },
  "language_info": {
   "codemirror_mode": {
    "name": "ipython",
    "version": 3
   },
   "file_extension": ".py",
   "mimetype": "text/x-python",
   "name": "python",
   "nbconvert_exporter": "python",
   "pygments_lexer": "ipython3",
   "version": "3.11.7"
  }
 },
 "nbformat": 4,
 "nbformat_minor": 5
}
